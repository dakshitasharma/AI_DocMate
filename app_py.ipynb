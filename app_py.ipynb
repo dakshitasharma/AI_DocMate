{
  "nbformat": 4,
  "nbformat_minor": 0,
  "metadata": {
    "colab": {
      "provenance": [],
      "authorship_tag": "ABX9TyOCcLuDIUYgqw1xQJASYfvV"
    },
    "kernelspec": {
      "name": "python3",
      "display_name": "Python 3"
    },
    "language_info": {
      "name": "python"
    }
  },
  "cells": [
    {
      "cell_type": "code",
      "execution_count": null,
      "metadata": {
        "id": "eSypC5xM-ErV"
      },
      "outputs": [],
      "source": [
        "# app.py\n",
        "\n",
        "import streamlit as st\n",
        "from AIDocMate import get_prediction, helper\n",
        "\n",
        "st.set_page_config(page_title=\"Health Predictor\", page_icon=\"🩺\", layout=\"centered\")\n",
        "\n",
        "st.title(\"🩺 AI Health Assistant\")\n",
        "st.markdown(\"**Enter your symptoms and get possible diagnosis with medical advice.**\")\n",
        "\n",
        "# List of possible symptoms (you can load dynamically from your dataset)\n",
        "all_symptoms = ['Fungal infection', 'Allergy', 'GERD', 'Chronic cholestasis',\n",
        "       'Drug Reaction', 'Peptic ulcer diseae', 'AIDS', 'Diabetes ',\n",
        "       'Gastroenteritis', 'Bronchial Asthma', 'Hypertension ', 'Migraine',\n",
        "       'Cervical spondylosis', 'Paralysis (brain hemorrhage)', 'Jaundice',\n",
        "       'Malaria', 'Chicken pox', 'Dengue', 'Typhoid', 'hepatitis A',\n",
        "       'Hepatitis B', 'Hepatitis C', 'Hepatitis D', 'Hepatitis E',\n",
        "       'Alcoholic hepatitis', 'Tuberculosis', 'Common Cold', 'Pneumonia',\n",
        "       'Dimorphic hemmorhoids(piles)', 'Heart attack', 'Varicose veins',\n",
        "       'Hypothyroidism', 'Hyperthyroidism', 'Hypoglycemia',\n",
        "       'Osteoarthristis', 'Arthritis',\n",
        "       '(vertigo) Paroymsal  Positional Vertigo', 'Acne',\n",
        "       'Urinary tract infection', 'Psoriasis', 'Impetigo']\n",
        "\n",
        "selected_symptoms = st.multiselect(\"🔍 Select your symptoms\", all_symptoms)\n",
        "\n",
        "if st.button(\"Predict Disease\"):\n",
        "    if not selected_symptoms:\n",
        "        st.warning(\"⚠️ Please select at least one symptom.\")\n",
        "    else:\n",
        "        with st.spinner(\"Analyzing symptoms...\"):\n",
        "            disease = get_prediction(selected_symptoms)\n",
        "            desc, precaution, medicine, diet, workout, symptoms, doctor = helper(disease)\n",
        "\n",
        "        st.success(f\"✅ Predicted Disease: **{disease}**\")\n",
        "\n",
        "        with st.expander(\"🧾 Description\"):\n",
        "            st.write(desc)\n",
        "\n",
        "        with st.expander(\"💊 Medicines\"):\n",
        "            st.write(\", \".join(medicine))\n",
        "\n",
        "        with st.expander(\"🛡️ Precautions\"):\n",
        "            st.write(\", \".join(precaution))\n",
        "\n",
        "        with st.expander(\"🥗 Diet Recommendations\"):\n",
        "            st.write(\", \".join(diet))\n",
        "\n",
        "        with st.expander(\"🏋️ Workout Suggestions\"):\n",
        "            st.write(\", \".join(workout))\n",
        "\n",
        "        with st.expander(\"🧠 Related Symptoms\"):\n",
        "            st.write(\", \".join(symptoms))\n",
        "\n",
        "        st.info(f\"👨‍⚕️ Suggested: {doctor}\")\n"
      ]
    }
  ]
}